{
 "cells": [
  {
   "cell_type": "markdown",
   "id": "eeaeccc5",
   "metadata": {
    "id": "eeaeccc5"
   },
   "source": [
    "![image.png](attachment:image.png)"
   ]
  },
  {
   "cell_type": "markdown",
   "id": "22e31e01",
   "metadata": {
    "id": "22e31e01"
   },
   "source": [
    "# Numpy"
   ]
  },
  {
   "cell_type": "markdown",
   "id": "180e4a24",
   "metadata": {
    "id": "180e4a24"
   },
   "source": [
    "Numpy is THE library for scientific computing and linear algebra in Python's community and was designed to give users the best of both worlds in programming languages: the speed of `C` language with the readability and elegance of `Python`."
   ]
  },
  {
   "cell_type": "markdown",
   "id": "fbc83262",
   "metadata": {
    "id": "fbc83262"
   },
   "source": [
    "### Why Numpy?\n",
    "A question arises that why do we need NumPy when python lists are already there. The answer to it is we cannot perform operations on all the elements of two list directly. For example we cannot multiply two lists directly we will have to do it element wise. This is where the role of NumPy comes into play."
   ]
  },
  {
   "cell_type": "code",
   "execution_count": 1,
   "id": "1449a0e7",
   "metadata": {
    "id": "1449a0e7"
   },
   "outputs": [],
   "source": [
    "from numpy import *\n",
    "import numpy as np"
   ]
  },
  {
   "cell_type": "markdown",
   "id": "b6c43581",
   "metadata": {
    "id": "b6c43581"
   },
   "source": [
    "Very quick speed comparison to show the staggering difference in performance, don't bother about the code in the following cell."
   ]
  },
  {
   "cell_type": "code",
   "execution_count": null,
   "id": "582e5306",
   "metadata": {
    "id": "582e5306"
   },
   "outputs": [],
   "source": [
    "import numpy as np\n",
    "import time\n",
    "import gc # garbage collection\n",
    "import sys\n",
    "\n",
    "\n",
    "def compare_times(f1, f2, setup1=None, setup2=None, runs=30):\n",
    "    print('    format: mean seconds (standard error)', runs, 'runs')\n",
    "    maxpad = max(len(f.__name__) for f in (f1, f2))\n",
    "    means = []\n",
    "    for setup, f in [[setup1, f1], [setup2, f2]]:\n",
    "        setup = (lambda: tuple()) if setup is None else setup\n",
    "\n",
    "        total_times = []\n",
    "        for _ in range(runs):\n",
    "            try:\n",
    "                gc.disable()\n",
    "                args = setup()\n",
    "\n",
    "                start = time.time()\n",
    "                if isinstance(args, tuple):\n",
    "                    f(*args)\n",
    "                else:\n",
    "                    f(args)\n",
    "                end = time.time()\n",
    "\n",
    "                total_times.append(end - start)\n",
    "            finally:\n",
    "                gc.enable()\n",
    "\n",
    "        mean = np.mean(total_times)\n",
    "        se = np.std(total_times) / np.sqrt(len(total_times))\n",
    "        print('    {} {:.2e} ({:.2e})'.format(f.__name__.ljust(maxpad), mean, se))\n",
    "        means.append(mean)\n",
    "    print('    improvement ratio {:.1f}'.format(means[0] / means[1]))"
   ]
  },
  {
   "cell_type": "code",
   "execution_count": null,
   "id": "40ed697e",
   "metadata": {
    "id": "40ed697e",
    "outputId": "8930ec45-76f0-45ab-9e2a-3066725fc56d",
    "scrolled": true
   },
   "outputs": [
    {
     "name": "stdout",
     "output_type": "stream",
     "text": [
      "create a list 1, 2, ... 10000000\n",
      "    format: mean seconds (standard error) 30 runs\n",
      "    create_list  4.85e-01 (1.10e-02)\n",
      "    create_array 2.39e-02 (6.99e-04)\n",
      "    improvement ratio 20.3\n"
     ]
    }
   ],
   "source": [
    "size = 10 ** 7\n",
    "print('create a list 1, 2, ...', size)\n",
    "\n",
    "\n",
    "def create_list(): return list(range(size))\n",
    "def create_array(): return np.arange(size, dtype=int)\n",
    "\n",
    "compare_times(create_list, create_array)"
   ]
  },
  {
   "cell_type": "code",
   "execution_count": null,
   "id": "5d81b28b",
   "metadata": {
    "colab": {
     "base_uri": "https://localhost:8080/"
    },
    "id": "5d81b28b",
    "outputId": "1626bee9-e926-468a-cdaf-c513b5d79375"
   },
   "outputs": [
    {
     "name": "stdout",
     "output_type": "stream",
     "text": [
      "2499632.0268662428\n",
      "Verctorize  : 12.294769287109375ms\n",
      "2499632.026866403\n",
      "Loop version  : 4796.185493469238ms\n",
      "Vectorization is faster by 390.0996742165684 times\n"
     ]
    }
   ],
   "source": [
    "import time\n",
    "num = 10000000\n",
    "a = np.random.random(num)\n",
    "b = np.random.random(num)\n",
    "\n",
    "star = time.time()\n",
    "c = np.dot(a,b)\n",
    "en = time.time()\n",
    "print(c)\n",
    "print(\"Verctorize  : \" +  str((en -star)*1000) + 'ms')\n",
    "\n",
    "d =0\n",
    "start = time.time()\n",
    "for i in range(num):\n",
    "    d += a[i]*b[i]\n",
    "end = time.time()\n",
    "\n",
    "print(d)\n",
    "print(\"Loop version  : \" +  str((end -start)*1000) + 'ms')\n",
    "print(\"Vectorization is faster by\" , (end -start)/(en -star) , 'times')"
   ]
  },
  {
   "cell_type": "markdown",
   "id": "26313cc1",
   "metadata": {
    "id": "26313cc1"
   },
   "source": [
    "### Convinced about numpy powers? ... Now, let's practice!"
   ]
  },
  {
   "cell_type": "markdown",
   "id": "728ee6e8",
   "metadata": {
    "id": "728ee6e8"
   },
   "source": [
    "#### Q1: Create a 1D array of numbers from 0 to 9.\n"
   ]
  },
  {
   "cell_type": "code",
   "execution_count": 17,
   "id": "879af9f4",
   "metadata": {
    "id": "879af9f4"
   },
   "outputs": [
    {
     "data": {
      "text/plain": [
       "array([0, 1, 2, 3, 4, 5, 6, 7, 8, 9])"
      ]
     },
     "execution_count": 17,
     "metadata": {},
     "output_type": "execute_result"
    }
   ],
   "source": [
    "arr1=np.arange(0,10)\n",
    "arr1"
   ]
  },
  {
   "cell_type": "markdown",
   "id": "df88002e",
   "metadata": {
    "id": "df88002e",
    "outputId": "2d774aee-c0c4-41fa-cab3-3222c9b946ae"
   },
   "source": [
    "#### Q2: Extract all odd numbers from arr.\n"
   ]
  },
  {
   "cell_type": "code",
   "execution_count": 18,
   "id": "5f8678dc",
   "metadata": {
    "id": "5f8678dc"
   },
   "outputs": [
    {
     "data": {
      "text/plain": [
       "array([1, 3, 5, 7, 9])"
      ]
     },
     "execution_count": 18,
     "metadata": {},
     "output_type": "execute_result"
    }
   ],
   "source": [
    "odd=arr1[arr1%2 != 0]\n",
    "odd"
   ]
  },
  {
   "cell_type": "markdown",
   "id": "80d71e7b",
   "metadata": {
    "id": "80d71e7b",
    "outputId": "3dcf10dd-74ce-4e97-af9e-a6a113fa5325",
    "scrolled": true
   },
   "source": [
    "#### Q3: Replace all odd numbers in arr with -1.\n"
   ]
  },
  {
   "cell_type": "code",
   "execution_count": 22,
   "id": "67166164",
   "metadata": {
    "id": "67166164"
   },
   "outputs": [
    {
     "data": {
      "text/plain": [
       "array([-1, -1, -1, -1, -1])"
      ]
     },
     "execution_count": 22,
     "metadata": {},
     "output_type": "execute_result"
    }
   ],
   "source": [
    "odd[odd %2 !=0]=-1\n",
    "odd"
   ]
  },
  {
   "cell_type": "markdown",
   "id": "0ff13c21",
   "metadata": {
    "id": "0ff13c21",
    "outputId": "c433746f-d447-4cf4-a644-f7783f82ef99"
   },
   "source": [
    "#### Q4: Convert a 1D array of length 10 to a 2D array with 2 rows\n"
   ]
  },
  {
   "cell_type": "code",
   "execution_count": 23,
   "id": "f325309d",
   "metadata": {
    "id": "f325309d"
   },
   "outputs": [
    {
     "data": {
      "text/plain": [
       "array([[0, 1, 2, 3, 4],\n",
       "       [5, 6, 7, 8, 9]])"
      ]
     },
     "execution_count": 23,
     "metadata": {},
     "output_type": "execute_result"
    }
   ],
   "source": [
    "new_size=[2,5]\n",
    "new_arr1=np.resize(arr1,new_size)\n",
    "new_arr1"
   ]
  },
  {
   "cell_type": "markdown",
   "id": "dea88c8f",
   "metadata": {
    "id": "dea88c8f",
    "outputId": "a65b17fe-39ec-4d6d-bc5c-0d3d586c61c7"
   },
   "source": [
    "#### Q5: compute the square root for each element in the  array\n",
    "#### ([[1, 2, 3],[2, 3, 4],[4, 5, 6]])\n"
   ]
  },
  {
   "cell_type": "code",
   "execution_count": 2,
   "id": "c4279e54",
   "metadata": {
    "id": "c4279e54"
   },
   "outputs": [
    {
     "data": {
      "text/plain": [
       "array([[ 1,  4,  9],\n",
       "       [ 4,  9, 16],\n",
       "       [16, 25, 36]])"
      ]
     },
     "execution_count": 2,
     "metadata": {},
     "output_type": "execute_result"
    }
   ],
   "source": [
    "arr2=np.array([[1, 2, 3],[2, 3, 4],[4, 5, 6]])\n",
    "arr2_sqr=np.multiply(arr2,arr2)\n",
    "arr2_sqr"
   ]
  },
  {
   "cell_type": "markdown",
   "id": "d2a4eace",
   "metadata": {
    "id": "d2a4eace",
    "outputId": "29b031b9-340a-46ce-f99a-71e45e965cfc"
   },
   "source": [
    "#### Q6: compute the exponential for each element in the above array\n"
   ]
  },
  {
   "cell_type": "code",
   "execution_count": 7,
   "id": "87533787",
   "metadata": {
    "id": "87533787"
   },
   "outputs": [
    {
     "data": {
      "text/plain": [
       "array([[2.71828183e+00, 5.45981500e+01, 8.10308393e+03],\n",
       "       [5.45981500e+01, 8.10308393e+03, 8.88611052e+06],\n",
       "       [8.88611052e+06, 7.20048993e+10, 4.31123155e+15]])"
      ]
     },
     "execution_count": 7,
     "metadata": {},
     "output_type": "execute_result"
    }
   ],
   "source": [
    "arr2_exp=np.exp(arr2_sqr)\n",
    "arr2_exp"
   ]
  },
  {
   "cell_type": "markdown",
   "id": "8293fb48",
   "metadata": {
    "id": "8293fb48",
    "outputId": "30df687b-b74a-43a5-963d-4a43fa70fbd6"
   },
   "source": [
    "#### Q7: sample 8 elements from uniform dist ([0, 1)\n"
   ]
  },
  {
   "cell_type": "code",
   "execution_count": 13,
   "id": "615b5468",
   "metadata": {
    "id": "615b5468"
   },
   "outputs": [
    {
     "data": {
      "text/plain": [
       "array([0.    , 0.1429, 0.2857, 0.4286, 0.5714, 0.7143, 0.8571, 1.    ])"
      ]
     },
     "execution_count": 13,
     "metadata": {},
     "output_type": "execute_result"
    }
   ],
   "source": [
    "arr3=np.linspace(0,1,8)\n",
    "arr3=around(arr3,4)\n",
    "arr3"
   ]
  },
  {
   "cell_type": "markdown",
   "id": "9177dac4",
   "metadata": {
    "id": "9177dac4"
   },
   "source": [
    "#### Q8: Write a NumPy program to create a vector of length 5 filled with arbitrary integers from 0 to 10."
   ]
  },
  {
   "cell_type": "code",
   "execution_count": 17,
   "id": "c6120aa4",
   "metadata": {},
   "outputs": [
    {
     "data": {
      "text/plain": [
       "array([8, 9, 0, 1, 6])"
      ]
     },
     "execution_count": 17,
     "metadata": {},
     "output_type": "execute_result"
    }
   ],
   "source": [
    "#aarr4=np.arange(0,10,2)\n",
    "arr42=np.random.randint(0,10,5)\n",
    "arr42"
   ]
  },
  {
   "cell_type": "code",
   "execution_count": null,
   "id": "e6a3c88b",
   "metadata": {},
   "outputs": [],
   "source": []
  },
  {
   "cell_type": "markdown",
   "id": "b2f2a38d",
   "metadata": {
    "id": "b2f2a38d"
   },
   "source": []
  },
  {
   "cell_type": "markdown",
   "id": "96c6a9f7",
   "metadata": {
    "id": "96c6a9f7"
   },
   "source": [
    "#### Q9: Write a NumPy program to create a 3x4 matrix filled with values from 10 to 21"
   ]
  },
  {
   "cell_type": "code",
   "execution_count": 18,
   "id": "9a2ceef2",
   "metadata": {
    "id": "9a2ceef2"
   },
   "outputs": [
    {
     "data": {
      "text/plain": [
       "array([[11, 16, 20, 13],\n",
       "       [15, 12, 18, 13],\n",
       "       [12, 12, 13, 16]])"
      ]
     },
     "execution_count": 18,
     "metadata": {},
     "output_type": "execute_result"
    }
   ],
   "source": [
    "arr5=np.random.randint(10,21,(3,4))\n",
    "arr5"
   ]
  },
  {
   "cell_type": "markdown",
   "id": "c7e42479",
   "metadata": {
    "id": "c7e42479"
   },
   "source": [
    "#### Q10: Write a NumPy program to create a vector of length 10 with values evenly distributed between 5 and 50."
   ]
  },
  {
   "cell_type": "code",
   "execution_count": 19,
   "id": "35124c17",
   "metadata": {
    "id": "35124c17"
   },
   "outputs": [
    {
     "data": {
      "text/plain": [
       "array([14, 26, 37, 42,  5, 31, 34, 20, 26, 13])"
      ]
     },
     "execution_count": 19,
     "metadata": {},
     "output_type": "execute_result"
    }
   ],
   "source": [
    "arr6=np.random.randint(5,50,10)\n",
    "arr6"
   ]
  },
  {
   "cell_type": "markdown",
   "id": "d617d3d8",
   "metadata": {
    "id": "d617d3d8"
   },
   "source": [
    "#### Q11: Write a NumPy program to create an array of all the even integers from 30 to 70."
   ]
  },
  {
   "cell_type": "code",
   "execution_count": 22,
   "id": "91da5900",
   "metadata": {
    "id": "91da5900"
   },
   "outputs": [
    {
     "name": "stdout",
     "output_type": "stream",
     "text": [
      "[30 31 32 33 34 35 36 37 38 39 40 41 42 43 44 45 46 47 48 49 50 51 52 53\n",
      " 54 55 56 57 58 59 60 61 62 63 64 65 66 67 68 69 70]\n"
     ]
    },
    {
     "data": {
      "text/plain": [
       "array([30, 32, 34, 36, 38, 40, 42, 44, 46, 48, 50, 52, 54, 56, 58, 60, 62,\n",
       "       64, 66, 68, 70])"
      ]
     },
     "execution_count": 22,
     "metadata": {},
     "output_type": "execute_result"
    }
   ],
   "source": [
    "arr7=np.arange(30,71)\n",
    "print(arr7)\n",
    "arr7_eve=arr7[arr7% 2==0]\n",
    "arr7_eve"
   ]
  },
  {
   "cell_type": "markdown",
   "id": "cd373f6d",
   "metadata": {
    "id": "cd373f6d"
   },
   "source": [
    "#### Q12: Write a NumPy program to check whether two arrays are equal (element wise) or not"
   ]
  },
  {
   "cell_type": "code",
   "execution_count": 40,
   "id": "d6d0e66e",
   "metadata": {
    "id": "d6d0e66e"
   },
   "outputs": [
    {
     "name": "stdout",
     "output_type": "stream",
     "text": [
      "True\n",
      "element wise\n"
     ]
    }
   ],
   "source": [
    "array1=np.arange(2,10,2)\n",
    "array2=np.arange(2,10,2)\n",
    "equal=(array1==array2).all()\n",
    "print(equal)\n",
    "if equal:\n",
    "    print(\"element wise\")\n",
    "else:\n",
    "    print(\"not element wise\")"
   ]
  },
  {
   "cell_type": "code",
   "execution_count": 32,
   "id": "2ad4f9fd",
   "metadata": {},
   "outputs": [],
   "source": [
    "np.array_equal?"
   ]
  },
  {
   "cell_type": "markdown",
   "id": "1bcea8d0",
   "metadata": {
    "id": "1bcea8d0"
   },
   "source": [
    "* further reading: [visit here](https://www.w3resource.com/python-exercises/numpy/index.php)"
   ]
  }
 ],
 "metadata": {
  "colab": {
   "provenance": []
  },
  "kernelspec": {
   "display_name": "Python 3 (ipykernel)",
   "language": "python",
   "name": "python3"
  },
  "language_info": {
   "codemirror_mode": {
    "name": "ipython",
    "version": 3
   },
   "file_extension": ".py",
   "mimetype": "text/x-python",
   "name": "python",
   "nbconvert_exporter": "python",
   "pygments_lexer": "ipython3",
   "version": "3.10.9"
  }
 },
 "nbformat": 4,
 "nbformat_minor": 5
}
